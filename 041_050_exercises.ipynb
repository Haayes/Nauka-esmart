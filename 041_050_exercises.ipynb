{
  "nbformat": 4,
  "nbformat_minor": 0,
  "metadata": {
    "colab": {
      "name": "041-050_exercises.ipynb",
      "provenance": [],
      "collapsed_sections": [],
      "include_colab_link": true
    },
    "kernelspec": {
      "name": "python3",
      "display_name": "Python 3"
    }
  },
  "cells": [
    {
      "cell_type": "markdown",
      "metadata": {
        "id": "view-in-github",
        "colab_type": "text"
      },
      "source": [
        "<a href=\"https://colab.research.google.com/github/Haayes/Nauka-esmart/blob/main/041_050_exercises.ipynb\" target=\"_parent\"><img src=\"https://colab.research.google.com/assets/colab-badge.svg\" alt=\"Open In Colab\"/></a>"
      ]
    },
    {
      "cell_type": "markdown",
      "metadata": {
        "id": "WLEgCW5F1hho"
      },
      "source": [
        "## Numpy\n",
        "\n",
        "### Spis treści:\n",
        "* [Import biblioteki](#0)\n",
        "* [Ćwiczenie 41](#1)\n",
        "* [Ćwiczenie 42](#2)\n",
        "* [Ćwiczenie 43](#3)\n",
        "* [Ćwiczenie 44](#4)\n",
        "* [Ćwiczenie 45](#5)\n",
        "* [Ćwiczenie 46](#6)\n",
        "* [Ćwiczenie 47](#7)\n",
        "* [Ćwiczenie 48](#8)\n",
        "* [Ćwiczenie 49](#9)\n",
        "* [Ćwiczenie 50](#10)"
      ]
    },
    {
      "cell_type": "markdown",
      "metadata": {
        "id": "zeLOLmTj1kBM"
      },
      "source": [
        "### <a name='0'></a>Import biblioteki"
      ]
    },
    {
      "cell_type": "code",
      "metadata": {
        "id": "HXMB7SMe1Wnz",
        "colab": {
          "base_uri": "https://localhost:8080/",
          "height": 36
        },
        "outputId": "7a0df53a-a3fa-4da4-f8d4-3462f6ff0daa"
      },
      "source": [
        "import numpy as np\n",
        "\n",
        "np.random.seed(42)\n",
        "np.__version__"
      ],
      "execution_count": 2,
      "outputs": [
        {
          "output_type": "execute_result",
          "data": {
            "text/plain": [
              "'1.21.6'"
            ],
            "application/vnd.google.colaboratory.intrinsic+json": {
              "type": "string"
            }
          },
          "metadata": {},
          "execution_count": 2
        }
      ]
    },
    {
      "cell_type": "markdown",
      "metadata": {
        "id": "SmxfwF7kysxx"
      },
      "source": [
        "### <a name='1'></a> Ćwiczenie 41\n",
        "Podana jest poniższa tablica $A$ o kształcie (2, 3).\n",
        "\n",
        "\n",
        "```\n",
        "A = np.array([[4, 2, 1],\n",
        "              [6, 4, 2]])\n",
        "```\n",
        "\n"
      ]
    },
    {
      "cell_type": "code",
      "source": [
        "a = np.arange(start = 1, stop = 10)\n",
        "\n",
        "print(a)\n"
      ],
      "metadata": {
        "id": "FnmUhcsUulFH",
        "outputId": "8052de16-2cde-48c7-dc3b-2457983a5977",
        "colab": {
          "base_uri": "https://localhost:8080/"
        }
      },
      "execution_count": null,
      "outputs": [
        {
          "output_type": "stream",
          "name": "stdout",
          "text": [
            "[1 2 3 4 5 6 7 8 9]\n"
          ]
        }
      ]
    },
    {
      "cell_type": "code",
      "metadata": {
        "id": "9fXShJnMy_Tj",
        "outputId": "8502378b-cdc6-43e2-c746-781499a5ed27",
        "colab": {
          "base_uri": "https://localhost:8080/"
        }
      },
      "source": [
        "A = np.arange (start = -5, stop = 10, step = 0.5)\n",
        "A = A.reshape(10,-1)\n",
        "print(A)"
      ],
      "execution_count": null,
      "outputs": [
        {
          "output_type": "stream",
          "name": "stdout",
          "text": [
            "[[-5.  -4.5 -4. ]\n",
            " [-3.5 -3.  -2.5]\n",
            " [-2.  -1.5 -1. ]\n",
            " [-0.5  0.   0.5]\n",
            " [ 1.   1.5  2. ]\n",
            " [ 2.5  3.   3.5]\n",
            " [ 4.   4.5  5. ]\n",
            " [ 5.5  6.   6.5]\n",
            " [ 7.   7.5  8. ]\n",
            " [ 8.5  9.   9.5]]\n"
          ]
        }
      ]
    },
    {
      "cell_type": "markdown",
      "metadata": {
        "id": "_JLL9I09zsit"
      },
      "source": [
        "* Rozszerz tablicę $A$ o jeden wymiar (dodaj nowy wymiar na początku). Oczekiwany kształt wyjściowej tablicy: _(1, 2, 3)_.\n",
        "\n",
        "__Wskazówka:__ Użyj funkcji _np.expand_dims()_."
      ]
    },
    {
      "cell_type": "code",
      "metadata": {
        "id": "yL4Ih_TKzHUO",
        "outputId": "4fc5dff4-341b-4992-941d-4b189800fb91",
        "colab": {
          "base_uri": "https://localhost:8080/"
        }
      },
      "source": [
        "A = np.array([[4, 2, 1],\n",
        "              [6, 4, 2]])\n",
        "np.expand_dims(a, axis = 0)"
      ],
      "execution_count": null,
      "outputs": [
        {
          "output_type": "execute_result",
          "data": {
            "text/plain": [
              "array([[1, 2, 3, 4, 5, 6, 7, 8, 9]])"
            ]
          },
          "metadata": {},
          "execution_count": 23
        }
      ]
    },
    {
      "cell_type": "markdown",
      "metadata": {
        "id": "TTY7V20_z2qR"
      },
      "source": [
        "* Rozszerz tablicę $A$ o jeden wymiar (dodaj nowy wymiar na końcu). Oczekiwany kształt wyjściowej tablicy: _(2, 3, 1)_.\n",
        "\n",
        "__Wskazówka:__ Użyj funkcji _np.expand_dims()_."
      ]
    },
    {
      "cell_type": "code",
      "metadata": {
        "id": "OMkgqoP5zKDh"
      },
      "source": [
        "# tutaj wpisz rozwiązanie"
      ],
      "execution_count": null,
      "outputs": []
    },
    {
      "cell_type": "markdown",
      "metadata": {
        "id": "cyc70pMe1oCg"
      },
      "source": [
        "### <a name='2'></a> Ćwiczenie 42\n",
        "Wygeneruj trójwymiarową tablicę o nazwie _image_ i kształcie _(200, 300, 3)_ wypełnioną wartościami losowymi od 0 do 255 włącznie i typie danych _np.uint8_."
      ]
    },
    {
      "cell_type": "code",
      "metadata": {
        "id": "XBvQFbM2deQm",
        "outputId": "2f462657-8e8a-4692-9711-e47b861b1d06",
        "colab": {
          "base_uri": "https://localhost:8080/"
        }
      },
      "source": [
        "image = np.random.randint(low = 0, high = 256, size=(200, 300, 3), dtype = np.uint8)\n",
        "\n",
        "print(image)"
      ],
      "execution_count": 5,
      "outputs": [
        {
          "output_type": "stream",
          "name": "stdout",
          "text": [
            "[[[ 41 115 118]\n",
            "  [ 84 233 122]\n",
            "  [  9 233 198]\n",
            "  ...\n",
            "  [ 37  99 209]\n",
            "  [211 120 126]\n",
            "  [ 59  79  35]]\n",
            "\n",
            " [[136 156 232]\n",
            "  [107 217 177]\n",
            "  [129 224  85]\n",
            "  ...\n",
            "  [132  46 214]\n",
            "  [107 200 163]\n",
            "  [121  45 198]]\n",
            "\n",
            " [[ 58  69 203]\n",
            "  [ 20  13 211]\n",
            "  [254 145  72]\n",
            "  ...\n",
            "  [  6 183 128]\n",
            "  [159 139  20]\n",
            "  [217 117  31]]\n",
            "\n",
            " ...\n",
            "\n",
            " [[178  96 176]\n",
            "  [178 151  78]\n",
            "  [175 147 177]\n",
            "  ...\n",
            "  [169 200  37]\n",
            "  [  9 171  29]\n",
            "  [145 143  28]]\n",
            "\n",
            " [[189 185 126]\n",
            "  [ 59  76 205]\n",
            "  [  9 136  25]\n",
            "  ...\n",
            "  [ 62  31 235]\n",
            "  [104 133 186]\n",
            "  [154  50 165]]\n",
            "\n",
            " [[157 209 251]\n",
            "  [181 230  48]\n",
            "  [ 21 223 136]\n",
            "  ...\n",
            "  [ 76  88 111]\n",
            "  [211 188  36]\n",
            "  [ 23 111 239]]]\n"
          ]
        }
      ]
    },
    {
      "cell_type": "markdown",
      "metadata": {
        "id": "RZ-P_l-ptaUP"
      },
      "source": [
        "Nastepnie uruchom poniższy blok kodu. W rezultacie uzyskasz podgląd na losowo wygenerowany kolorowy obraz."
      ]
    },
    {
      "cell_type": "code",
      "metadata": {
        "id": "Slgb65eIdrjh"
      },
      "source": [
        "from google.colab.patches import cv2_imshow\n",
        "\n",
        "cv2_imshow(image)"
      ],
      "execution_count": null,
      "outputs": []
    },
    {
      "cell_type": "markdown",
      "metadata": {
        "id": "ZmmSS6Ul9jhH"
      },
      "source": [
        "__Uwaga:__ Kolorowy obraz można zapisać jako trójwymiarowa tablica numpy o kształcie: (wysokość, szerokość, kanał).  \n",
        "Np. kanał RGB: Red, Green, Blue. Kanał BGR: Blue, Green, Red.  \n",
        "Mówiąc precyzyjniej kolorowy obraz zapisujemy jako trójwymiarowa tablica numpy o kształcie: (wysokość, szerokość, 3)."
      ]
    },
    {
      "cell_type": "markdown",
      "metadata": {
        "id": "J9pY1rtr1sC0"
      },
      "source": [
        "### <a name='3'></a> Ćwiczenie 43\n",
        "Tablica _image_ z poprzedniego zadania jest kształtu _(200, 300, 3)_. Wykonaj polecenia:\n",
        "* Rozszerz tablicę _image_ o jeden wymiar (dodaj nowy wymiar na początku). Oczekiwany kształt wyjściowej tablicy: _(1, 200, 300, 3)_.\n",
        "\n",
        "__Wskazówka:__ Użyj funkcji _np.expand_dims()_."
      ]
    },
    {
      "cell_type": "code",
      "metadata": {
        "id": "rl8nBc3_tq6T"
      },
      "source": [
        "image = np.random.randint(low=0, high=256, size=(200, 300, 3), dtype=np.uint8)\n",
        "print(image.shape)\n",
        "\n",
        "# tutaj wpisz rozwiązanie"
      ],
      "execution_count": null,
      "outputs": []
    },
    {
      "cell_type": "markdown",
      "metadata": {
        "id": "NzTYhLZ5u8n9"
      },
      "source": [
        "* Rozszerz tablicę _image_ o jeden wymiar (dodaj nowy wymiar na końcu). Oczekiwany kształt wyjściowej tablicy: _(200, 300, 3, 1)_.\n",
        "\n",
        "__Wskazówka:__ Użyj funkcji _np.expand_dims()_."
      ]
    },
    {
      "cell_type": "code",
      "metadata": {
        "id": "4kRpNeu6vC4G"
      },
      "source": [
        "image = np.random.randint(low=0, high=256, size=(200, 300, 3), dtype=np.uint8)\n",
        "print(image.shape)\n",
        "\n",
        "# tutaj wpisz rozwiązanie"
      ],
      "execution_count": null,
      "outputs": []
    },
    {
      "cell_type": "markdown",
      "metadata": {
        "id": "XQLYT2m11wVG"
      },
      "source": [
        "### <a name='4'></a> Ćwiczenie 44\n",
        "Podane są dwie losowo wygenerowane tablice _image1_ oraz _image2_. \n",
        "\n",
        "\n",
        "```\n",
        "image1 = np.random.randint(low=0, high=256, size=(200, 300, 3), dtype=np.uint8)\n",
        "image2 = np.random.randint(low=0, high=256, size=(200, 300, 3), dtype=np.uint8)\n",
        "```\n",
        "\n",
        "Każdą z tych tablic rozszerz dodając jeden wymiar na początku i następnie połącz tak otrzymane tablice w jedną o nazwie _images_. Oczekiwany kształt tablicy wynikowej: _(2, 200, 300, 3)_."
      ]
    },
    {
      "cell_type": "code",
      "metadata": {
        "id": "6K5Q4rZnr_zw"
      },
      "source": [
        "image1 = np.random.randint(low=0, high=256, size=(200, 300, 3), dtype=np.uint8)\n",
        "image2 = np.random.randint(low=0, high=256, size=(200, 300, 3), dtype=np.uint8)\n",
        "\n",
        "# tutaj wpisz rozwiązanie"
      ],
      "execution_count": null,
      "outputs": []
    },
    {
      "cell_type": "markdown",
      "metadata": {
        "id": "4xTKSUzg10MK"
      },
      "source": [
        "### <a name='5'></a> Ćwiczenie 45\n",
        "Z tablicy _images_ z poprzedniego zadania wytnij dla __pierwszego__ obrazu dziesięć pierwszych wierszy i dziesięć pierwszych kolumn z kanału trzeciego (indeks 2)."
      ]
    },
    {
      "cell_type": "code",
      "metadata": {
        "id": "wPdCbNZbQnZp"
      },
      "source": [
        "# tutaj wpisz rozwiązanie"
      ],
      "execution_count": null,
      "outputs": []
    },
    {
      "cell_type": "markdown",
      "metadata": {
        "id": "o3HKIKlP15Ro"
      },
      "source": [
        "### <a name='6'></a> Ćwiczenie 46\n",
        "Z tablicy _images_ z Ćwiczenia 44 wytnij dla __drugiego__ obrazu sto pierwszych wierszy i sto pierwszych kolumn z kanału pierwszego (indeks 0) i wyświetl za pomocą funkcji _cv2_imshow_."
      ]
    },
    {
      "cell_type": "code",
      "metadata": {
        "id": "XLBzrhZZRDdW"
      },
      "source": [
        "# tutaj wpisz rozwiązanie"
      ],
      "execution_count": null,
      "outputs": []
    },
    {
      "cell_type": "markdown",
      "metadata": {
        "id": "PunXd_Ey16so"
      },
      "source": [
        "### <a name='7'></a> Ćwiczenie 47\n",
        "Poniżej wyświetlono podgląd na pierwszy obraz z tablicy _images_ z Ćwiczenia 44."
      ]
    },
    {
      "cell_type": "code",
      "metadata": {
        "id": "iOzoZ67cAJmX"
      },
      "source": [
        "cv2_imshow(images[0])"
      ],
      "execution_count": null,
      "outputs": []
    },
    {
      "cell_type": "markdown",
      "metadata": {
        "id": "g_t5souAA5sR"
      },
      "source": [
        "Dla obrazu pierwszego z tablicy _images_ przypisz dla pikseli z indeksem $[50:150, 100:200]$ wartość 0 i następnie wyświetl tak otrzymany obraz."
      ]
    },
    {
      "cell_type": "code",
      "metadata": {
        "id": "bTveruAtAbtG"
      },
      "source": [
        "# tutaj wpisz rozwiązanie"
      ],
      "execution_count": null,
      "outputs": []
    },
    {
      "cell_type": "markdown",
      "metadata": {
        "id": "djmdkq7dDy5i"
      },
      "source": [
        "Dla obrazu drugiego z tablicy _images_ przypisz dla pikseli z indeksem $[100:150, :150]$ wartość 255 i następnie wyświetl tak otrzymany obraz."
      ]
    },
    {
      "cell_type": "code",
      "metadata": {
        "id": "fe32mJ2mD9kL"
      },
      "source": [
        "# tutaj wpisz rozwiązanie"
      ],
      "execution_count": null,
      "outputs": []
    },
    {
      "cell_type": "markdown",
      "metadata": {
        "id": "hOhqDRz618Tx"
      },
      "source": [
        "### <a name='8'></a> Ćwiczenie 48\n",
        "Podana jest poniższa tablica $A$ o kształcie _(1, 2, 3)_. \n",
        "\n",
        "\n",
        "```\n",
        "A = np.array([[[1, 2, 3],\n",
        "               [6, 3, 2]]])\n",
        "```\n",
        "\n",
        "Usuń zbędny pierwszy wymiar i otrzymaj tablicę o kształcie _(2, 3)_.\n",
        "\n",
        "__Wskazówka:__ Użyj funkcji _np.squeeze()_."
      ]
    },
    {
      "cell_type": "code",
      "metadata": {
        "id": "hHZ4laz0Genr"
      },
      "source": [
        "# tutaj wpisz rozwiązanie"
      ],
      "execution_count": null,
      "outputs": []
    },
    {
      "cell_type": "markdown",
      "metadata": {
        "id": "TXUd_4631-gw"
      },
      "source": [
        "### <a name='9'></a> Ćwiczenie 49\n",
        "Podana jest poniższa tablica $A$ o kształcie _(4, 1)_. \n",
        "\n",
        "```\n",
        "A = np.array([[0.4],\n",
        "              [0.9],\n",
        "              [0.5],\n",
        "              [0.6]])\n",
        "```\n",
        "\n",
        "Usuń zbędny pierwszy wymiar i otrzymaj tablicę o kształcie _(4,)_.\n",
        "\n",
        "__Wskazówka:__ Użyj funkcji _np.squeeze()_.\n"
      ]
    },
    {
      "cell_type": "code",
      "metadata": {
        "id": "COO6UTNlH8uG"
      },
      "source": [
        "# tutaj wpisz rozwiązanie"
      ],
      "execution_count": null,
      "outputs": []
    },
    {
      "cell_type": "markdown",
      "metadata": {
        "id": "tgI6xEn-2AQo"
      },
      "source": [
        "### <a name='10'></a> Ćwiczenie 50\n",
        "Z tablicy _images_ wycięto pierwszy obraz w poniższy sposób:"
      ]
    },
    {
      "cell_type": "code",
      "metadata": {
        "id": "PC0fphCIGK-s"
      },
      "source": [
        "image1 = images[:1]\n",
        "image1.shape"
      ],
      "execution_count": null,
      "outputs": []
    },
    {
      "cell_type": "markdown",
      "metadata": {
        "id": "JP2W2TnsHfDt"
      },
      "source": [
        "Wykorzystując wiedzę z poprzednich ćwiczeń usuń zbędny pierwszy wymiar otrzymanej tablicy _image1_."
      ]
    },
    {
      "cell_type": "code",
      "metadata": {
        "id": "MKAQkZszGOCF"
      },
      "source": [
        "# tutaj wpisz rozwiązanie"
      ],
      "execution_count": null,
      "outputs": []
    }
  ]
}