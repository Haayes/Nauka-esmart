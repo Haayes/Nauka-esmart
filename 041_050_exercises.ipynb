{
  "nbformat": 4,
  "nbformat_minor": 0,
  "metadata": {
    "colab": {
      "name": "041-050_exercises.ipynb",
      "provenance": [],
      "collapsed_sections": [],
      "include_colab_link": true
    },
    "kernelspec": {
      "name": "python3",
      "display_name": "Python 3"
    }
  },
  "cells": [
    {
      "cell_type": "markdown",
      "metadata": {
        "id": "view-in-github",
        "colab_type": "text"
      },
      "source": [
        "<a href=\"https://colab.research.google.com/github/Haayes/Nauka-esmart/blob/main/041_050_exercises.ipynb\" target=\"_parent\"><img src=\"https://colab.research.google.com/assets/colab-badge.svg\" alt=\"Open In Colab\"/></a>"
      ]
    },
    {
      "cell_type": "markdown",
      "metadata": {
        "id": "WLEgCW5F1hho"
      },
      "source": [
        "## Numpy\n",
        "\n",
        "### Spis treści:\n",
        "* [Import biblioteki](#0)\n",
        "* [Ćwiczenie 41](#1)\n",
        "* [Ćwiczenie 42](#2)\n",
        "* [Ćwiczenie 43](#3)\n",
        "* [Ćwiczenie 44](#4)\n",
        "* [Ćwiczenie 45](#5)\n",
        "* [Ćwiczenie 46](#6)\n",
        "* [Ćwiczenie 47](#7)\n",
        "* [Ćwiczenie 48](#8)\n",
        "* [Ćwiczenie 49](#9)\n",
        "* [Ćwiczenie 50](#10)"
      ]
    },
    {
      "cell_type": "markdown",
      "metadata": {
        "id": "zeLOLmTj1kBM"
      },
      "source": [
        "### <a name='0'></a>Import biblioteki"
      ]
    },
    {
      "cell_type": "code",
      "metadata": {
        "id": "HXMB7SMe1Wnz",
        "colab": {
          "base_uri": "https://localhost:8080/",
          "height": 36
        },
        "outputId": "41916066-ccad-4449-c098-ab61430c9eb2"
      },
      "source": [
        "import numpy as np\n",
        "\n",
        "np.random.seed(42)\n",
        "np.__version__"
      ],
      "execution_count": 1,
      "outputs": [
        {
          "output_type": "execute_result",
          "data": {
            "text/plain": [
              "'1.21.6'"
            ],
            "application/vnd.google.colaboratory.intrinsic+json": {
              "type": "string"
            }
          },
          "metadata": {},
          "execution_count": 1
        }
      ]
    },
    {
      "cell_type": "markdown",
      "metadata": {
        "id": "SmxfwF7kysxx"
      },
      "source": [
        "### <a name='1'></a> Ćwiczenie 41\n",
        "Podana jest poniższa tablica $A$ o kształcie (2, 3).\n",
        "\n",
        "\n",
        "```\n",
        "A = np.array([[4, 2, 1],\n",
        "              [6, 4, 2]])\n",
        "```\n",
        "\n"
      ]
    },
    {
      "cell_type": "code",
      "source": [
        "a = np.arange(start = 1, stop = 10)\n",
        "\n",
        "print(a)\n"
      ],
      "metadata": {
        "id": "FnmUhcsUulFH",
        "outputId": "8052de16-2cde-48c7-dc3b-2457983a5977",
        "colab": {
          "base_uri": "https://localhost:8080/"
        }
      },
      "execution_count": null,
      "outputs": [
        {
          "output_type": "stream",
          "name": "stdout",
          "text": [
            "[1 2 3 4 5 6 7 8 9]\n"
          ]
        }
      ]
    },
    {
      "cell_type": "code",
      "metadata": {
        "id": "9fXShJnMy_Tj",
        "outputId": "8502378b-cdc6-43e2-c746-781499a5ed27",
        "colab": {
          "base_uri": "https://localhost:8080/"
        }
      },
      "source": [
        "A = np.arange (start = -5, stop = 10, step = 0.5)\n",
        "A = A.reshape(10,-1)\n",
        "print(A)"
      ],
      "execution_count": null,
      "outputs": [
        {
          "output_type": "stream",
          "name": "stdout",
          "text": [
            "[[-5.  -4.5 -4. ]\n",
            " [-3.5 -3.  -2.5]\n",
            " [-2.  -1.5 -1. ]\n",
            " [-0.5  0.   0.5]\n",
            " [ 1.   1.5  2. ]\n",
            " [ 2.5  3.   3.5]\n",
            " [ 4.   4.5  5. ]\n",
            " [ 5.5  6.   6.5]\n",
            " [ 7.   7.5  8. ]\n",
            " [ 8.5  9.   9.5]]\n"
          ]
        }
      ]
    },
    {
      "cell_type": "markdown",
      "metadata": {
        "id": "_JLL9I09zsit"
      },
      "source": [
        "* Rozszerz tablicę $A$ o jeden wymiar (dodaj nowy wymiar na początku). Oczekiwany kształt wyjściowej tablicy: _(1, 2, 3)_.\n",
        "\n",
        "__Wskazówka:__ Użyj funkcji _np.expand_dims()_."
      ]
    },
    {
      "cell_type": "code",
      "metadata": {
        "id": "yL4Ih_TKzHUO",
        "outputId": "4fc5dff4-341b-4992-941d-4b189800fb91",
        "colab": {
          "base_uri": "https://localhost:8080/"
        }
      },
      "source": [
        "A = np.array([[4, 2, 1],\n",
        "              [6, 4, 2]])\n",
        "np.expand_dims(a, axis = 0)"
      ],
      "execution_count": null,
      "outputs": [
        {
          "output_type": "execute_result",
          "data": {
            "text/plain": [
              "array([[1, 2, 3, 4, 5, 6, 7, 8, 9]])"
            ]
          },
          "metadata": {},
          "execution_count": 23
        }
      ]
    },
    {
      "cell_type": "markdown",
      "metadata": {
        "id": "TTY7V20_z2qR"
      },
      "source": [
        "* Rozszerz tablicę $A$ o jeden wymiar (dodaj nowy wymiar na końcu). Oczekiwany kształt wyjściowej tablicy: _(2, 3, 1)_.\n",
        "\n",
        "__Wskazówka:__ Użyj funkcji _np.expand_dims()_."
      ]
    },
    {
      "cell_type": "code",
      "metadata": {
        "id": "OMkgqoP5zKDh"
      },
      "source": [
        "# tutaj wpisz rozwiązanie"
      ],
      "execution_count": null,
      "outputs": []
    },
    {
      "cell_type": "markdown",
      "metadata": {
        "id": "cyc70pMe1oCg"
      },
      "source": [
        "### <a name='2'></a> Ćwiczenie 42\n",
        "Wygeneruj trójwymiarową tablicę o nazwie _image_ i kształcie _(200, 300, 3)_ wypełnioną wartościami losowymi od 0 do 255 włącznie i typie danych _np.uint8_."
      ]
    },
    {
      "cell_type": "code",
      "metadata": {
        "id": "XBvQFbM2deQm",
        "outputId": "2f462657-8e8a-4692-9711-e47b861b1d06",
        "colab": {
          "base_uri": "https://localhost:8080/"
        }
      },
      "source": [
        "image = np.random.randint(low = 0, high = 256, size=(200, 300, 3), dtype = np.uint8)\n",
        "\n",
        "print(image)"
      ],
      "execution_count": null,
      "outputs": [
        {
          "output_type": "stream",
          "name": "stdout",
          "text": [
            "[[[ 41 115 118]\n",
            "  [ 84 233 122]\n",
            "  [  9 233 198]\n",
            "  ...\n",
            "  [ 37  99 209]\n",
            "  [211 120 126]\n",
            "  [ 59  79  35]]\n",
            "\n",
            " [[136 156 232]\n",
            "  [107 217 177]\n",
            "  [129 224  85]\n",
            "  ...\n",
            "  [132  46 214]\n",
            "  [107 200 163]\n",
            "  [121  45 198]]\n",
            "\n",
            " [[ 58  69 203]\n",
            "  [ 20  13 211]\n",
            "  [254 145  72]\n",
            "  ...\n",
            "  [  6 183 128]\n",
            "  [159 139  20]\n",
            "  [217 117  31]]\n",
            "\n",
            " ...\n",
            "\n",
            " [[178  96 176]\n",
            "  [178 151  78]\n",
            "  [175 147 177]\n",
            "  ...\n",
            "  [169 200  37]\n",
            "  [  9 171  29]\n",
            "  [145 143  28]]\n",
            "\n",
            " [[189 185 126]\n",
            "  [ 59  76 205]\n",
            "  [  9 136  25]\n",
            "  ...\n",
            "  [ 62  31 235]\n",
            "  [104 133 186]\n",
            "  [154  50 165]]\n",
            "\n",
            " [[157 209 251]\n",
            "  [181 230  48]\n",
            "  [ 21 223 136]\n",
            "  ...\n",
            "  [ 76  88 111]\n",
            "  [211 188  36]\n",
            "  [ 23 111 239]]]\n"
          ]
        }
      ]
    },
    {
      "cell_type": "markdown",
      "metadata": {
        "id": "RZ-P_l-ptaUP"
      },
      "source": [
        "Nastepnie uruchom poniższy blok kodu. W rezultacie uzyskasz podgląd na losowo wygenerowany kolorowy obraz."
      ]
    },
    {
      "cell_type": "code",
      "metadata": {
        "id": "Slgb65eIdrjh"
      },
      "source": [
        "from google.colab.patches import cv2_imshow\n",
        "\n",
        "cv2_imshow(image)"
      ],
      "execution_count": null,
      "outputs": []
    },
    {
      "cell_type": "markdown",
      "metadata": {
        "id": "ZmmSS6Ul9jhH"
      },
      "source": [
        "__Uwaga:__ Kolorowy obraz można zapisać jako trójwymiarowa tablica numpy o kształcie: (wysokość, szerokość, kanał).  \n",
        "Np. kanał RGB: Red, Green, Blue. Kanał BGR: Blue, Green, Red.  \n",
        "Mówiąc precyzyjniej kolorowy obraz zapisujemy jako trójwymiarowa tablica numpy o kształcie: (wysokość, szerokość, 3)."
      ]
    },
    {
      "cell_type": "markdown",
      "metadata": {
        "id": "J9pY1rtr1sC0"
      },
      "source": [
        "### <a name='3'></a> Ćwiczenie 43\n",
        "Tablica _image_ z poprzedniego zadania jest kształtu _(200, 300, 3)_. Wykonaj polecenia:\n",
        "* Rozszerz tablicę _image_ o jeden wymiar (dodaj nowy wymiar na początku). Oczekiwany kształt wyjściowej tablicy: _(1, 200, 300, 3)_.\n",
        "\n",
        "__Wskazówka:__ Użyj funkcji _np.expand_dims()_."
      ]
    },
    {
      "cell_type": "code",
      "metadata": {
        "id": "rl8nBc3_tq6T",
        "outputId": "e6cc78a1-93a1-409c-88bc-f70cbebf40fd",
        "colab": {
          "base_uri": "https://localhost:8080/"
        }
      },
      "source": [
        "image = np.random.randint(low=0, high=256, size=(200, 300, 3), dtype=np.uint8)\n",
        "print(image.shape)\n",
        "\n",
        "image = np.expand_dims(image, axis = 0)\n",
        "print(image)"
      ],
      "execution_count": 5,
      "outputs": [
        {
          "output_type": "stream",
          "name": "stdout",
          "text": [
            "(200, 300, 3)\n",
            "[[[[ 81  84 180]\n",
            "   [239 195  87]\n",
            "   [ 10 247 246]\n",
            "   ...\n",
            "   [ 49 136  91]\n",
            "   [136 192 105]\n",
            "   [  4 122 161]]\n",
            "\n",
            "  [[121 115 195]\n",
            "   [ 18   3 184]\n",
            "   [253 169 244]\n",
            "   ...\n",
            "   [ 92 136 206]\n",
            "   [ 89  89 113]\n",
            "   [184   1  81]]\n",
            "\n",
            "  [[198 236  19]\n",
            "   [210  50 104]\n",
            "   [ 12  47 217]\n",
            "   ...\n",
            "   [205  24 154]\n",
            "   [241 227 167]\n",
            "   [208 134 145]]\n",
            "\n",
            "  ...\n",
            "\n",
            "  [[107   5  23]\n",
            "   [ 15 113  49]\n",
            "   [209 132 124]\n",
            "   ...\n",
            "   [ 49  68  35]\n",
            "   [123 147 197]\n",
            "   [180 102  30]]\n",
            "\n",
            "  [[244  63 109]\n",
            "   [ 54  81  48]\n",
            "   [ 92  68  76]\n",
            "   ...\n",
            "   [ 73 229  71]\n",
            "   [178 143 234]\n",
            "   [179 104 208]]\n",
            "\n",
            "  [[117 172 184]\n",
            "   [234 161  27]\n",
            "   [ 72 233 138]\n",
            "   ...\n",
            "   [207   8  28]\n",
            "   [132 237  84]\n",
            "   [ 90 122 210]]]]\n"
          ]
        }
      ]
    },
    {
      "cell_type": "markdown",
      "metadata": {
        "id": "NzTYhLZ5u8n9"
      },
      "source": [
        "* Rozszerz tablicę _image_ o jeden wymiar (dodaj nowy wymiar na końcu). Oczekiwany kształt wyjściowej tablicy: _(200, 300, 3, 1)_.\n",
        "\n",
        "__Wskazówka:__ Użyj funkcji _np.expand_dims()_."
      ]
    },
    {
      "cell_type": "code",
      "metadata": {
        "id": "4kRpNeu6vC4G",
        "outputId": "c769c72f-05a0-4dd5-f7e5-7dd1f0645f65",
        "colab": {
          "base_uri": "https://localhost:8080/"
        }
      },
      "source": [
        "image = np.random.randint(low=0, high=256, size=(200, 300, 3), dtype=np.uint8)\n",
        "print(image.shape)\n",
        "\n",
        "\n",
        "image = np.expand_dims(image, axis = -1)\n",
        "print(image)"
      ],
      "execution_count": 7,
      "outputs": [
        {
          "output_type": "stream",
          "name": "stdout",
          "text": [
            "(200, 300, 3)\n",
            "[[[[ 45]\n",
            "   [ 73]\n",
            "   [176]]\n",
            "\n",
            "  [[ 35]\n",
            "   [195]\n",
            "   [ 98]]\n",
            "\n",
            "  [[ 19]\n",
            "   [ 85]\n",
            "   [ 45]]\n",
            "\n",
            "  ...\n",
            "\n",
            "  [[139]\n",
            "   [234]\n",
            "   [203]]\n",
            "\n",
            "  [[148]\n",
            "   [ 59]\n",
            "   [ 32]]\n",
            "\n",
            "  [[194]\n",
            "   [123]\n",
            "   [106]]]\n",
            "\n",
            "\n",
            " [[[ 36]\n",
            "   [ 57]\n",
            "   [127]]\n",
            "\n",
            "  [[109]\n",
            "   [ 39]\n",
            "   [ 75]]\n",
            "\n",
            "  [[ 11]\n",
            "   [ 16]\n",
            "   [240]]\n",
            "\n",
            "  ...\n",
            "\n",
            "  [[196]\n",
            "   [156]\n",
            "   [200]]\n",
            "\n",
            "  [[219]\n",
            "   [120]\n",
            "   [ 30]]\n",
            "\n",
            "  [[ 63]\n",
            "   [ 40]\n",
            "   [145]]]\n",
            "\n",
            "\n",
            " [[[ 48]\n",
            "   [ 33]\n",
            "   [103]]\n",
            "\n",
            "  [[184]\n",
            "   [253]\n",
            "   [ 11]]\n",
            "\n",
            "  [[108]\n",
            "   [173]\n",
            "   [249]]\n",
            "\n",
            "  ...\n",
            "\n",
            "  [[122]\n",
            "   [201]\n",
            "   [110]]\n",
            "\n",
            "  [[  9]\n",
            "   [ 38]\n",
            "   [ 90]]\n",
            "\n",
            "  [[ 92]\n",
            "   [ 41]\n",
            "   [ 70]]]\n",
            "\n",
            "\n",
            " ...\n",
            "\n",
            "\n",
            " [[[183]\n",
            "   [ 52]\n",
            "   [227]]\n",
            "\n",
            "  [[ 67]\n",
            "   [205]\n",
            "   [  3]]\n",
            "\n",
            "  [[ 42]\n",
            "   [217]\n",
            "   [ 79]]\n",
            "\n",
            "  ...\n",
            "\n",
            "  [[152]\n",
            "   [  7]\n",
            "   [111]]\n",
            "\n",
            "  [[159]\n",
            "   [ 80]\n",
            "   [ 15]]\n",
            "\n",
            "  [[107]\n",
            "   [200]\n",
            "   [189]]]\n",
            "\n",
            "\n",
            " [[[ 95]\n",
            "   [179]\n",
            "   [187]]\n",
            "\n",
            "  [[173]\n",
            "   [188]\n",
            "   [ 21]]\n",
            "\n",
            "  [[254]\n",
            "   [229]\n",
            "   [143]]\n",
            "\n",
            "  ...\n",
            "\n",
            "  [[ 93]\n",
            "   [ 39]\n",
            "   [ 35]]\n",
            "\n",
            "  [[126]\n",
            "   [138]\n",
            "   [110]]\n",
            "\n",
            "  [[110]\n",
            "   [206]\n",
            "   [ 27]]]\n",
            "\n",
            "\n",
            " [[[  8]\n",
            "   [ 38]\n",
            "   [146]]\n",
            "\n",
            "  [[ 51]\n",
            "   [  2]\n",
            "   [ 37]]\n",
            "\n",
            "  [[ 80]\n",
            "   [186]\n",
            "   [ 50]]\n",
            "\n",
            "  ...\n",
            "\n",
            "  [[120]\n",
            "   [ 21]\n",
            "   [  1]]\n",
            "\n",
            "  [[140]\n",
            "   [ 75]\n",
            "   [ 25]]\n",
            "\n",
            "  [[172]\n",
            "   [185]\n",
            "   [175]]]]\n"
          ]
        }
      ]
    },
    {
      "cell_type": "markdown",
      "metadata": {
        "id": "XQLYT2m11wVG"
      },
      "source": [
        "### <a name='4'></a> Ćwiczenie 44\n",
        "Podane są dwie losowo wygenerowane tablice _image1_ oraz _image2_. \n",
        "\n",
        "\n",
        "```\n",
        "image1 = np.random.randint(low=0, high=256, size=(200, 300, 3), dtype=np.uint8)\n",
        "image2 = np.random.randint(low=0, high=256, size=(200, 300, 3), dtype=np.uint8)\n",
        "```\n",
        "\n",
        "Każdą z tych tablic rozszerz dodając jeden wymiar na początku i następnie połącz tak otrzymane tablice w jedną o nazwie _images_. Oczekiwany kształt tablicy wynikowej: _(2, 200, 300, 3)_."
      ]
    },
    {
      "cell_type": "code",
      "metadata": {
        "id": "6K5Q4rZnr_zw",
        "outputId": "4fbf13e3-18f8-48e4-9f0b-a877a78b8cb2",
        "colab": {
          "base_uri": "https://localhost:8080/"
        }
      },
      "source": [
        "image1 = np.random.randint(low=0, high=256, size=(200, 300, 3), dtype=np.uint8)\n",
        "image2 = np.random.randint(low=0, high=256, size=(200, 300, 3), dtype=np.uint8)\n",
        "\n",
        "image1 = np.expand_dims(image1, axis = 0)\n",
        "image2 = np.expand_dims(image2, axis = 0)\n",
        "\n",
        "image = np.append(image1, image2, axis = 0) \n",
        "image.shape\n",
        "\n",
        "# tutaj wpisz rozwiązanie"
      ],
      "execution_count": 12,
      "outputs": [
        {
          "output_type": "execute_result",
          "data": {
            "text/plain": [
              "(2, 200, 300, 3)"
            ]
          },
          "metadata": {},
          "execution_count": 12
        }
      ]
    },
    {
      "cell_type": "markdown",
      "metadata": {
        "id": "4xTKSUzg10MK"
      },
      "source": [
        "### <a name='5'></a> Ćwiczenie 45\n",
        "Z tablicy _images_ z poprzedniego zadania wytnij dla __pierwszego__ obrazu dziesięć pierwszych wierszy i dziesięć pierwszych kolumn z kanału trzeciego (indeks 2)."
      ]
    },
    {
      "cell_type": "code",
      "metadata": {
        "id": "wPdCbNZbQnZp"
      },
      "source": [
        "\n",
        "\n",
        "\n"
      ],
      "execution_count": null,
      "outputs": []
    },
    {
      "cell_type": "markdown",
      "metadata": {
        "id": "o3HKIKlP15Ro"
      },
      "source": [
        "### <a name='6'></a> Ćwiczenie 46\n",
        "Z tablicy _images_ z Ćwiczenia 44 wytnij dla __drugiego__ obrazu sto pierwszych wierszy i sto pierwszych kolumn z kanału pierwszego (indeks 0) i wyświetl za pomocą funkcji _cv2_imshow_."
      ]
    },
    {
      "cell_type": "code",
      "metadata": {
        "id": "XLBzrhZZRDdW"
      },
      "source": [
        "# tutaj wpisz rozwiązanie"
      ],
      "execution_count": null,
      "outputs": []
    },
    {
      "cell_type": "markdown",
      "metadata": {
        "id": "PunXd_Ey16so"
      },
      "source": [
        "### <a name='7'></a> Ćwiczenie 47\n",
        "Poniżej wyświetlono podgląd na pierwszy obraz z tablicy _images_ z Ćwiczenia 44."
      ]
    },
    {
      "cell_type": "code",
      "metadata": {
        "id": "iOzoZ67cAJmX"
      },
      "source": [
        "cv2_imshow(images[0])"
      ],
      "execution_count": null,
      "outputs": []
    },
    {
      "cell_type": "markdown",
      "metadata": {
        "id": "g_t5souAA5sR"
      },
      "source": [
        "Dla obrazu pierwszego z tablicy _images_ przypisz dla pikseli z indeksem $[50:150, 100:200]$ wartość 0 i następnie wyświetl tak otrzymany obraz."
      ]
    },
    {
      "cell_type": "code",
      "metadata": {
        "id": "bTveruAtAbtG"
      },
      "source": [
        "# tutaj wpisz rozwiązanie"
      ],
      "execution_count": null,
      "outputs": []
    },
    {
      "cell_type": "markdown",
      "metadata": {
        "id": "djmdkq7dDy5i"
      },
      "source": [
        "Dla obrazu drugiego z tablicy _images_ przypisz dla pikseli z indeksem $[100:150, :150]$ wartość 255 i następnie wyświetl tak otrzymany obraz."
      ]
    },
    {
      "cell_type": "code",
      "metadata": {
        "id": "fe32mJ2mD9kL"
      },
      "source": [
        "# tutaj wpisz rozwiązanie"
      ],
      "execution_count": null,
      "outputs": []
    },
    {
      "cell_type": "markdown",
      "metadata": {
        "id": "hOhqDRz618Tx"
      },
      "source": [
        "### <a name='8'></a> Ćwiczenie 48\n",
        "Podana jest poniższa tablica $A$ o kształcie _(1, 2, 3)_. \n",
        "\n",
        "\n",
        "```\n",
        "A = np.array([[[1, 2, 3],\n",
        "               [6, 3, 2]]])\n",
        "```\n",
        "\n",
        "Usuń zbędny pierwszy wymiar i otrzymaj tablicę o kształcie _(2, 3)_.\n",
        "\n",
        "__Wskazówka:__ Użyj funkcji _np.squeeze()_."
      ]
    },
    {
      "cell_type": "code",
      "metadata": {
        "id": "hHZ4laz0Genr"
      },
      "source": [
        "# tutaj wpisz rozwiązanie"
      ],
      "execution_count": null,
      "outputs": []
    },
    {
      "cell_type": "markdown",
      "metadata": {
        "id": "TXUd_4631-gw"
      },
      "source": [
        "### <a name='9'></a> Ćwiczenie 49\n",
        "Podana jest poniższa tablica $A$ o kształcie _(4, 1)_. \n",
        "\n",
        "```\n",
        "A = np.array([[0.4],\n",
        "              [0.9],\n",
        "              [0.5],\n",
        "              [0.6]])\n",
        "```\n",
        "\n",
        "Usuń zbędny pierwszy wymiar i otrzymaj tablicę o kształcie _(4,)_.\n",
        "\n",
        "__Wskazówka:__ Użyj funkcji _np.squeeze()_.\n"
      ]
    },
    {
      "cell_type": "code",
      "metadata": {
        "id": "COO6UTNlH8uG"
      },
      "source": [
        "# tutaj wpisz rozwiązanie"
      ],
      "execution_count": null,
      "outputs": []
    },
    {
      "cell_type": "markdown",
      "metadata": {
        "id": "tgI6xEn-2AQo"
      },
      "source": [
        "### <a name='10'></a> Ćwiczenie 50\n",
        "Z tablicy _images_ wycięto pierwszy obraz w poniższy sposób:"
      ]
    },
    {
      "cell_type": "code",
      "metadata": {
        "id": "PC0fphCIGK-s"
      },
      "source": [
        "image1 = images[:1]\n",
        "image1.shape"
      ],
      "execution_count": null,
      "outputs": []
    },
    {
      "cell_type": "markdown",
      "metadata": {
        "id": "JP2W2TnsHfDt"
      },
      "source": [
        "Wykorzystując wiedzę z poprzednich ćwiczeń usuń zbędny pierwszy wymiar otrzymanej tablicy _image1_."
      ]
    },
    {
      "cell_type": "code",
      "metadata": {
        "id": "MKAQkZszGOCF"
      },
      "source": [
        "# tutaj wpisz rozwiązanie"
      ],
      "execution_count": null,
      "outputs": []
    }
  ]
}