{
  "nbformat": 4,
  "nbformat_minor": 0,
  "metadata": {
    "colab": {
      "name": "Data Science Bootcamp w języku Python - od A do Z.ipynb",
      "provenance": [],
      "toc_visible": true,
      "authorship_tag": "ABX9TyN8gg0EOlrZRVqHriH8G4sk",
      "include_colab_link": true
    },
    "kernelspec": {
      "name": "python3",
      "display_name": "Python 3"
    },
    "language_info": {
      "name": "python"
    }
  },
  "cells": [
    {
      "cell_type": "markdown",
      "metadata": {
        "id": "view-in-github",
        "colab_type": "text"
      },
      "source": [
        "<a href=\"https://colab.research.google.com/github/Haayes/Nauka-esmart/blob/main/Data_Science_Bootcamp_w_j%C4%99zyku_Python_od_A_do_Z.ipynb\" target=\"_parent\"><img src=\"https://colab.research.google.com/assets/colab-badge.svg\" alt=\"Open In Colab\"/></a>"
      ]
    },
    {
      "cell_type": "code",
      "execution_count": 2,
      "metadata": {
        "id": "KUAKZHCXazey",
        "colab": {
          "base_uri": "https://localhost:8080/",
          "height": 36
        },
        "outputId": "52cd5d1c-7c30-4d48-b05f-20b72e245155"
      },
      "outputs": [
        {
          "output_type": "execute_result",
          "data": {
            "text/plain": [
              "'1.21.6'"
            ],
            "application/vnd.google.colaboratory.intrinsic+json": {
              "type": "string"
            }
          },
          "metadata": {},
          "execution_count": 2
        }
      ],
      "source": [
        "import numpy as np\n",
        "np.__version__"
      ]
    },
    {
      "cell_type": "code",
      "source": [
        "a = np.random.randint(low=10, high=101, size=10)\n"
      ],
      "metadata": {
        "id": "K0cy0oKmhASp"
      },
      "execution_count": 6,
      "outputs": []
    },
    {
      "cell_type": "code",
      "source": [
        "a.reshape((5, -1))\n"
      ],
      "metadata": {
        "id": "BZiB8KzwHuMV",
        "outputId": "119cfef9-e496-4478-bd66-c24e6a650bde",
        "colab": {
          "base_uri": "https://localhost:8080/"
        }
      },
      "execution_count": 9,
      "outputs": [
        {
          "output_type": "execute_result",
          "data": {
            "text/plain": [
              "array([[63, 27],\n",
              "       [10, 96],\n",
              "       [57, 85],\n",
              "       [74, 20],\n",
              "       [12, 25]])"
            ]
          },
          "metadata": {},
          "execution_count": 9
        }
      ]
    }
  ]
}