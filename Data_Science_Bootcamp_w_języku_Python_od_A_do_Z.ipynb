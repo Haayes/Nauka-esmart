{
  "nbformat": 4,
  "nbformat_minor": 0,
  "metadata": {
    "colab": {
      "name": "Data Science Bootcamp w języku Python - od A do Z.ipynb",
      "provenance": [],
      "authorship_tag": "ABX9TyM8alDVnK6FSbeUaspcX0ao",
      "include_colab_link": true
    },
    "kernelspec": {
      "name": "python3",
      "display_name": "Python 3"
    },
    "language_info": {
      "name": "python"
    }
  },
  "cells": [
    {
      "cell_type": "markdown",
      "metadata": {
        "id": "view-in-github",
        "colab_type": "text"
      },
      "source": [
        "<a href=\"https://colab.research.google.com/github/Haayes/Nauka-esmart/blob/main/Data_Science_Bootcamp_w_j%C4%99zyku_Python_od_A_do_Z.ipynb\" target=\"_parent\"><img src=\"https://colab.research.google.com/assets/colab-badge.svg\" alt=\"Open In Colab\"/></a>"
      ]
    },
    {
      "cell_type": "code",
      "execution_count": 1,
      "metadata": {
        "id": "KUAKZHCXazey",
        "colab": {
          "base_uri": "https://localhost:8080/"
        },
        "outputId": "04f7a5b2-ed63-44e4-e650-09707e395ef1"
      },
      "outputs": [
        {
          "output_type": "stream",
          "name": "stdout",
          "text": [
            "Hello mordo\n"
          ]
        }
      ],
      "source": [
        "print('Hello mordo')"
      ]
    },
    {
      "cell_type": "code",
      "source": [
        ""
      ],
      "metadata": {
        "id": "K0cy0oKmhASp"
      },
      "execution_count": null,
      "outputs": []
    }
  ]
}