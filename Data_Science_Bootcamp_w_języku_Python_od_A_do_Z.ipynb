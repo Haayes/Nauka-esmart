{
  "nbformat": 4,
  "nbformat_minor": 0,
  "metadata": {
    "colab": {
      "name": "Data Science Bootcamp w języku Python - od A do Z.ipynb",
      "provenance": [],
      "toc_visible": true,
      "authorship_tag": "ABX9TyMYzZCFh9eBkzG9x2IMVyq2",
      "include_colab_link": true
    },
    "kernelspec": {
      "name": "python3",
      "display_name": "Python 3"
    },
    "language_info": {
      "name": "python"
    }
  },
  "cells": [
    {
      "cell_type": "markdown",
      "metadata": {
        "id": "view-in-github",
        "colab_type": "text"
      },
      "source": [
        "<a href=\"https://colab.research.google.com/github/Haayes/Nauka-esmart/blob/main/Data_Science_Bootcamp_w_j%C4%99zyku_Python_od_A_do_Z.ipynb\" target=\"_parent\"><img src=\"https://colab.research.google.com/assets/colab-badge.svg\" alt=\"Open In Colab\"/></a>"
      ]
    },
    {
      "cell_type": "code",
      "execution_count": 11,
      "metadata": {
        "id": "KUAKZHCXazey",
        "colab": {
          "base_uri": "https://localhost:8080/",
          "height": 35
        },
        "outputId": "609cf958-3781-474a-8259-969ead3ddcdc"
      },
      "outputs": [
        {
          "output_type": "execute_result",
          "data": {
            "text/plain": [
              "'1.21.6'"
            ],
            "application/vnd.google.colaboratory.intrinsic+json": {
              "type": "string"
            }
          },
          "metadata": {},
          "execution_count": 11
        }
      ],
      "source": [
        "import numpy as np\n",
        "np.__version__"
      ]
    },
    {
      "cell_type": "code",
      "source": [
        "a = np.random.randint(low=10, high=101, size=10)\n"
      ],
      "metadata": {
        "id": "K0cy0oKmhASp"
      },
      "execution_count": 12,
      "outputs": []
    },
    {
      "cell_type": "code",
      "source": [
        "A = np.arange(20)\n",
        "A"
      ],
      "metadata": {
        "id": "BZiB8KzwHuMV",
        "outputId": "944e3744-d6ab-4bf8-e104-7edd0413a792",
        "colab": {
          "base_uri": "https://localhost:8080/"
        }
      },
      "execution_count": 16,
      "outputs": [
        {
          "output_type": "execute_result",
          "data": {
            "text/plain": [
              "array([ 0,  1,  2,  3,  4,  5,  6,  7,  8,  9, 10, 11, 12, 13, 14, 15, 16,\n",
              "       17, 18, 19])"
            ]
          },
          "metadata": {},
          "execution_count": 16
        }
      ]
    },
    {
      "cell_type": "code",
      "source": [
        "A = A.reshape(4, 5)\n",
        "A"
      ],
      "metadata": {
        "colab": {
          "base_uri": "https://localhost:8080/"
        },
        "id": "vIgyesRUaZK5",
        "outputId": "450034e1-ed2d-4ecc-a18d-159eab97b403"
      },
      "execution_count": 17,
      "outputs": [
        {
          "output_type": "execute_result",
          "data": {
            "text/plain": [
              "array([[ 0,  1,  2,  3,  4],\n",
              "       [ 5,  6,  7,  8,  9],\n",
              "       [10, 11, 12, 13, 14],\n",
              "       [15, 16, 17, 18, 19]])"
            ]
          },
          "metadata": {},
          "execution_count": 17
        }
      ]
    },
    {
      "cell_type": "code",
      "source": [
        "for item in A:\n",
        "  print(item)"
      ],
      "metadata": {
        "colab": {
          "base_uri": "https://localhost:8080/"
        },
        "id": "Uc4VFT6-aZIX",
        "outputId": "667faa10-81b0-45a0-a624-2d38589c54f3"
      },
      "execution_count": 19,
      "outputs": [
        {
          "output_type": "stream",
          "name": "stdout",
          "text": [
            "[0 1 2 3 4]\n",
            "[5 6 7 8 9]\n",
            "[10 11 12 13 14]\n",
            "[15 16 17 18 19]\n"
          ]
        }
      ]
    },
    {
      "cell_type": "code",
      "source": [
        "A.ravel()"
      ],
      "metadata": {
        "colab": {
          "base_uri": "https://localhost:8080/"
        },
        "id": "PPcwbeTSaZGB",
        "outputId": "54062b97-ab54-4360-e491-19e143605936"
      },
      "execution_count": 21,
      "outputs": [
        {
          "output_type": "execute_result",
          "data": {
            "text/plain": [
              "array([ 0,  1,  2,  3,  4,  5,  6,  7,  8,  9, 10, 11, 12, 13, 14, 15, 16,\n",
              "       17, 18, 19])"
            ]
          },
          "metadata": {},
          "execution_count": 21
        }
      ]
    },
    {
      "cell_type": "code",
      "source": [
        ""
      ],
      "metadata": {
        "id": "NbXC-igFaY9-"
      },
      "execution_count": null,
      "outputs": []
    },
    {
      "cell_type": "code",
      "source": [
        "A = np.arange (start = -5, stop = 10, step = 0.5)"
      ],
      "metadata": {
        "id": "oYJ5CjymaY4T"
      },
      "execution_count": 22,
      "outputs": []
    },
    {
      "cell_type": "code",
      "source": [
        "A = A.reshape(10,-1)"
      ],
      "metadata": {
        "id": "_J6FoZTAch9m"
      },
      "execution_count": 24,
      "outputs": []
    },
    {
      "cell_type": "code",
      "source": [
        "A"
      ],
      "metadata": {
        "colab": {
          "base_uri": "https://localhost:8080/"
        },
        "id": "QWirFNFKcpsJ",
        "outputId": "509f6503-2fb6-4ec0-9635-30bc4fe23c29"
      },
      "execution_count": 25,
      "outputs": [
        {
          "output_type": "execute_result",
          "data": {
            "text/plain": [
              "array([[-5. , -4.5, -4. ],\n",
              "       [-3.5, -3. , -2.5],\n",
              "       [-2. , -1.5, -1. ],\n",
              "       [-0.5,  0. ,  0.5],\n",
              "       [ 1. ,  1.5,  2. ],\n",
              "       [ 2.5,  3. ,  3.5],\n",
              "       [ 4. ,  4.5,  5. ],\n",
              "       [ 5.5,  6. ,  6.5],\n",
              "       [ 7. ,  7.5,  8. ],\n",
              "       [ 8.5,  9. ,  9.5]])"
            ]
          },
          "metadata": {},
          "execution_count": 25
        }
      ]
    },
    {
      "cell_type": "code",
      "source": [
        "for item in A:\n",
        "  print(item)"
      ],
      "metadata": {
        "colab": {
          "base_uri": "https://localhost:8080/"
        },
        "id": "W20OTF-hcqhz",
        "outputId": "0aeeb392-c3bf-49ee-ba82-07a76f512496"
      },
      "execution_count": 29,
      "outputs": [
        {
          "output_type": "stream",
          "name": "stdout",
          "text": [
            "[-5.  -4.5 -4. ]\n",
            "[-3.5 -3.  -2.5]\n",
            "[-2.  -1.5 -1. ]\n",
            "[-0.5  0.   0.5]\n",
            "[1.  1.5 2. ]\n",
            "[2.5 3.  3.5]\n",
            "[4.  4.5 5. ]\n",
            "[5.5 6.  6.5]\n",
            "[7.  7.5 8. ]\n",
            "[8.5 9.  9.5]\n"
          ]
        }
      ]
    },
    {
      "cell_type": "code",
      "source": [
        "np.bitwise_and(A> -5, A<5)"
      ],
      "metadata": {
        "colab": {
          "base_uri": "https://localhost:8080/"
        },
        "id": "nMcamCZRc5Mj",
        "outputId": "2ede982f-7475-448c-afd0-5da3f2248bfc"
      },
      "execution_count": 30,
      "outputs": [
        {
          "output_type": "execute_result",
          "data": {
            "text/plain": [
              "array([[False,  True,  True],\n",
              "       [ True,  True,  True],\n",
              "       [ True,  True,  True],\n",
              "       [ True,  True,  True],\n",
              "       [ True,  True,  True],\n",
              "       [ True,  True,  True],\n",
              "       [ True,  True, False],\n",
              "       [False, False, False],\n",
              "       [False, False, False],\n",
              "       [False, False, False]])"
            ]
          },
          "metadata": {},
          "execution_count": 30
        }
      ]
    },
    {
      "cell_type": "code",
      "source": [
        "v1 = np.array([-1, 4])\n",
        "v1"
      ],
      "metadata": {
        "colab": {
          "base_uri": "https://localhost:8080/"
        },
        "id": "dmSwUCMVdmPb",
        "outputId": "44e6331d-231d-4f8e-cf86-9d42a6aef5f1"
      },
      "execution_count": 31,
      "outputs": [
        {
          "output_type": "execute_result",
          "data": {
            "text/plain": [
              "array([-1,  4])"
            ]
          },
          "metadata": {},
          "execution_count": 31
        }
      ]
    },
    {
      "cell_type": "code",
      "source": [
        "np.linalg.norm(v1)\n"
      ],
      "metadata": {
        "id": "hS4DzOP1oKR_",
        "outputId": "87f9ee57-b80e-4f8e-e9e0-0e3d01827369",
        "colab": {
          "base_uri": "https://localhost:8080/"
        }
      },
      "execution_count": 32,
      "outputs": [
        {
          "output_type": "execute_result",
          "data": {
            "text/plain": [
              "4.123105625617661"
            ]
          },
          "metadata": {},
          "execution_count": 32
        }
      ]
    },
    {
      "cell_type": "code",
      "source": [
        "v2 = np.array([-10, 10, 13])\n",
        "np.linalg.norm(v2)"
      ],
      "metadata": {
        "id": "-WX8o-VIoMDO",
        "outputId": "a9c3f8ea-b21c-4743-8270-03ff2c5f826c",
        "colab": {
          "base_uri": "https://localhost:8080/"
        }
      },
      "execution_count": 34,
      "outputs": [
        {
          "output_type": "execute_result",
          "data": {
            "text/plain": [
              "19.209372712298546"
            ]
          },
          "metadata": {},
          "execution_count": 34
        }
      ]
    },
    {
      "cell_type": "code",
      "source": [
        "p = np.array([3, 0])\n",
        "q = np.array([0, 4])\n",
        "\n",
        "np.linalg.norm(p - q)"
      ],
      "metadata": {
        "id": "mLvQXuvNwBWA",
        "outputId": "495d3f82-022d-4a2a-d76c-2f1413acec8d",
        "colab": {
          "base_uri": "https://localhost:8080/"
        }
      },
      "execution_count": 35,
      "outputs": [
        {
          "output_type": "execute_result",
          "data": {
            "text/plain": [
              "5.0"
            ]
          },
          "metadata": {},
          "execution_count": 35
        }
      ]
    },
    {
      "cell_type": "code",
      "source": [
        "p = np.array([3, 0, 1])\n",
        "q = np.array([0, 4, 2])\n",
        "\n",
        "np.linalg.norm(p - q)"
      ],
      "metadata": {
        "id": "bHI57peqwEYF",
        "outputId": "367fd6af-ba69-4fc1-fc1c-f504ef2c1e86",
        "colab": {
          "base_uri": "https://localhost:8080/"
        }
      },
      "execution_count": 36,
      "outputs": [
        {
          "output_type": "execute_result",
          "data": {
            "text/plain": [
              "5.0990195135927845"
            ]
          },
          "metadata": {},
          "execution_count": 36
        }
      ]
    },
    {
      "cell_type": "code",
      "source": [
        "X = np.array([[5, 3], [3, 9]])\n",
        "Y = np.array([[1], [-1]])\n",
        "print(X, '\\n')\n",
        "print(Y)"
      ],
      "metadata": {
        "id": "9AMrIXuxwkvn",
        "outputId": "df1fffc4-a909-458d-abab-6b0cd234b9eb",
        "colab": {
          "base_uri": "https://localhost:8080/"
        }
      },
      "execution_count": 37,
      "outputs": [
        {
          "output_type": "stream",
          "name": "stdout",
          "text": [
            "[[5 3]\n",
            " [3 9]] \n",
            "\n",
            "[[ 1]\n",
            " [-1]]\n"
          ]
        }
      ]
    },
    {
      "cell_type": "code",
      "source": [
        "Z =  np.dot(X, Y)\n",
        "Z"
      ],
      "metadata": {
        "id": "nYpfdbSnwnpd",
        "outputId": "2e9c39b3-81b1-427b-a804-2d6c882e9e1e",
        "colab": {
          "base_uri": "https://localhost:8080/"
        }
      },
      "execution_count": 40,
      "outputs": [
        {
          "output_type": "execute_result",
          "data": {
            "text/plain": [
              "array([[ 2],\n",
              "       [-6]])"
            ]
          },
          "metadata": {},
          "execution_count": 40
        }
      ]
    },
    {
      "cell_type": "code",
      "source": [
        "Z.shape\n"
      ],
      "metadata": {
        "id": "RT9ncq3YwplZ",
        "outputId": "2cdc225d-2aaa-4c90-a3ec-530a8b7b7947",
        "colab": {
          "base_uri": "https://localhost:8080/"
        }
      },
      "execution_count": 41,
      "outputs": [
        {
          "output_type": "execute_result",
          "data": {
            "text/plain": [
              "(2, 1)"
            ]
          },
          "metadata": {},
          "execution_count": 41
        }
      ]
    },
    {
      "cell_type": "code",
      "source": [
        "X = np.array([[2, -1, 3],\n",
        "              [3, 1, 0]])\n",
        "Y = np.array([[2, 1, -1],\n",
        "              [0, -1, 2],\n",
        "              [3, 2, 0]])\n",
        "\n",
        "print(X, '\\n')\n",
        "print(Y)"
      ],
      "metadata": {
        "id": "SoE0yjYSxtEW",
        "outputId": "acad0bb4-3e72-4b29-f51e-1da43bda0950",
        "colab": {
          "base_uri": "https://localhost:8080/"
        }
      },
      "execution_count": 42,
      "outputs": [
        {
          "output_type": "stream",
          "name": "stdout",
          "text": [
            "[[ 2 -1  3]\n",
            " [ 3  1  0]] \n",
            "\n",
            "[[ 2  1 -1]\n",
            " [ 0 -1  2]\n",
            " [ 3  2  0]]\n"
          ]
        }
      ]
    },
    {
      "cell_type": "code",
      "source": [
        "np.dot(X, Y)\n"
      ],
      "metadata": {
        "id": "8f3e7vFP0Ir8",
        "outputId": "41b7517e-8271-46ce-992f-21db483e1a0c",
        "colab": {
          "base_uri": "https://localhost:8080/"
        }
      },
      "execution_count": 43,
      "outputs": [
        {
          "output_type": "execute_result",
          "data": {
            "text/plain": [
              "array([[13,  9, -4],\n",
              "       [ 6,  2, -1]])"
            ]
          },
          "metadata": {},
          "execution_count": 43
        }
      ]
    },
    {
      "cell_type": "code",
      "source": [
        ""
      ],
      "metadata": {
        "id": "jtMYzDu90KP-"
      },
      "execution_count": null,
      "outputs": []
    }
  ]
}