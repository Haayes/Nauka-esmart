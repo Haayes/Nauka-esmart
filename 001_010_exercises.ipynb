{
  "nbformat": 4,
  "nbformat_minor": 0,
  "metadata": {
    "colab": {
      "name": "001-010_exercises.ipynb",
      "provenance": [],
      "collapsed_sections": [],
      "include_colab_link": true
    },
    "kernelspec": {
      "name": "python3",
      "display_name": "Python 3"
    }
  },
  "cells": [
    {
      "cell_type": "markdown",
      "metadata": {
        "id": "view-in-github",
        "colab_type": "text"
      },
      "source": [
        "<a href=\"https://colab.research.google.com/github/Haayes/Nauka-esmart/blob/main/001_010_exercises.ipynb\" target=\"_parent\"><img src=\"https://colab.research.google.com/assets/colab-badge.svg\" alt=\"Open In Colab\"/></a>"
      ]
    },
    {
      "cell_type": "markdown",
      "metadata": {
        "id": "WLEgCW5F1hho"
      },
      "source": [
        "## Numpy\n",
        "\n",
        "### Spis treści:\n",
        "* [Import biblioteki](#0)\n",
        "* [Ćwiczenie 1](#1)\n",
        "* [Ćwiczenie 2](#2)\n",
        "* [Ćwiczenie 3](#3)\n",
        "* [Ćwiczenie 4](#4)\n",
        "* [Ćwiczenie 5](#5)\n",
        "* [Ćwiczenie 6](#6)\n",
        "* [Ćwiczenie 7](#7)\n",
        "* [Ćwiczenie 8](#8)\n",
        "* [Ćwiczenie 9](#9)\n",
        "* [Ćwiczenie 10](#10)"
      ]
    },
    {
      "cell_type": "markdown",
      "metadata": {
        "id": "zeLOLmTj1kBM"
      },
      "source": [
        "### <a name='0'></a>Import biblioteki"
      ]
    },
    {
      "cell_type": "code",
      "metadata": {
        "id": "HXMB7SMe1Wnz",
        "colab": {
          "base_uri": "https://localhost:8080/",
          "height": 35
        },
        "outputId": "6254e379-9fcf-49eb-c0ff-a602a59d09f8"
      },
      "source": [
        "import numpy as np\n",
        "np.__version__"
      ],
      "execution_count": 1,
      "outputs": [
        {
          "output_type": "execute_result",
          "data": {
            "text/plain": [
              "'1.21.6'"
            ],
            "application/vnd.google.colaboratory.intrinsic+json": {
              "type": "string"
            }
          },
          "metadata": {},
          "execution_count": 1
        }
      ]
    },
    {
      "cell_type": "code",
      "metadata": {
        "id": "IF1NmNBs1mxS",
        "colab": {
          "base_uri": "https://localhost:8080/"
        },
        "outputId": "543e5999-9ff7-4b46-ff54-7fbb1286b595"
      },
      "source": [
        "A = np.array([[3, 2, 1, 4],\n",
        "              [5, 2, 1, 6]])\n",
        "\n",
        "B = np.array([[3, 2, 1, 4],\n",
        "              [5, 2, 0, 6]])\n",
        "\n",
        "C = np.array([[True, False, False],\n",
        "              [True, True, True]])\n",
        "\n",
        "D = np.array([0.1, 0.3])\n",
        "\n",
        "for name, array in zip(list('ABCD'), [A,B,C,D]):\n",
        "  print(f'{name}:{np.all(array)}')"
      ],
      "execution_count": null,
      "outputs": [
        {
          "output_type": "stream",
          "name": "stdout",
          "text": [
            "A:True\n",
            "B:False\n",
            "C:False\n",
            "D:True\n"
          ]
        }
      ]
    },
    {
      "cell_type": "markdown",
      "metadata": {
        "id": "J9pY1rtr1sC0"
      },
      "source": [
        "### <a name='2'></a> Ćwiczenie 2\n",
        "Sprawdź czy wszystkie elementy tablic $A, B$ oraz $C$ zwracają wartość logiczną _True_ wzdłuż osi z indeksem 1.\n",
        "\n",
        "\n",
        "```\n",
        "A = np.array([[3, 2, 1, 4],\n",
        "              [5, 2, 1, 6]])\n",
        "\n",
        "B = np.array([[3, 2, 1, 4],\n",
        "              [5, 2, 0, 6]])\n",
        "\n",
        "C = np.array([[True, False, False],\n",
        "              [True, True, True]])\n",
        "```\n",
        "\n",
        "\n",
        "\n",
        "__Wskazówka:__ Użyj funkcji _np.all()_ z parametrem _axis._"
      ]
    },
    {
      "cell_type": "markdown",
      "metadata": {
        "id": "cyc70pMe1oCg"
      },
      "source": [
        "### <a name='1'></a> Ćwiczenie 1\n",
        "Sprawdź czy wszystkie elementy tablic $A, B, C$ oraz $D$ zwracają wartość logiczną _True_.\n",
        "\n",
        "\n",
        "\n",
        "```\n",
        "A = np.array([[3, 2, 1, 4],\n",
        "              [5, 2, 1, 6]])\n",
        "\n",
        "B = np.array([[3, 2, 1, 4],\n",
        "              [5, 2, 0, 6]])\n",
        "\n",
        "C = np.array([[True, False, False],\n",
        "              [True, True, True]])\n",
        "\n",
        "D = np.array([0.1, 0.3])\n",
        "```\n",
        "\n",
        "\n",
        "\n",
        "__Wskazówka:__ Użyj funkcji _np.all()._"
      ]
    },
    {
      "cell_type": "code",
      "source": [
        "A = np.array([[3, 2, 1, 4],\n",
        "              [5, 2, 1, 6]])\n",
        "\n",
        "B = np.array([[3, 2, 1, 4],\n",
        "              [5, 2, 0, 6]])\n",
        "\n",
        "C = np.array([[True, False, False],\n",
        "              [True, True, True]])\n",
        "\n",
        "D = np.array([0.1, 0.3])\n",
        "\n",
        "for name, array in zip(list('ABCD'), [A,B,C,D]):\n",
        "  print(f'{name}: {np.all(array)}')"
      ],
      "metadata": {
        "id": "RCrx9WRCMf3T",
        "outputId": "a2d52d4e-36eb-4c5a-f271-0cced652ee4f",
        "colab": {
          "base_uri": "https://localhost:8080/"
        }
      },
      "execution_count": 11,
      "outputs": [
        {
          "output_type": "stream",
          "name": "stdout",
          "text": [
            "A: True\n",
            "B: False\n",
            "C: False\n",
            "D: True\n"
          ]
        }
      ]
    },
    {
      "cell_type": "code",
      "metadata": {
        "id": "zpTYzL-O1qxq",
        "colab": {
          "base_uri": "https://localhost:8080/"
        },
        "outputId": "139aa856-c70e-4161-f4fd-4c51664e8992"
      },
      "source": [
        "A = np.array([[3, 2, 1, 4],\n",
        "              [5, 2, 1, 6]])\n",
        "\n",
        "B = np.array([[3, 2, 1, 4],\n",
        "              [5, 2, 0, 6]])\n",
        "\n",
        "C = np.array([[True, False, False],\n",
        "              [True, True, True]])\n",
        "\n",
        "for name, array in zip(list('ABC'), [A,B,C]):\n",
        "  print(f'{name}:{np.all(array, axis = 1)}')\n",
        "\n",
        " "
      ],
      "execution_count": 12,
      "outputs": [
        {
          "output_type": "stream",
          "name": "stdout",
          "text": [
            "A:[ True  True]\n",
            "B:[ True False]\n",
            "C:[False  True]\n"
          ]
        }
      ]
    },
    {
      "cell_type": "markdown",
      "metadata": {
        "id": "XQLYT2m11wVG"
      },
      "source": [
        "### <a name='3'></a> Ćwiczenie 3\n",
        "Sprawdź czy jakikolwiek element tablic $A, B, C$ oraz $D$ odpowiednio, zwraca wartość logiczną _True_.\n",
        "\n",
        "\n",
        "```\n",
        "A = np.array([[0, 0, 0],\n",
        "              [0, 0, 0]])\n",
        "\n",
        "B = np.array([[0, 0, 0],\n",
        "              [0, 1, 0]])\n",
        "\n",
        "C = np.array([[False, False, False],\n",
        "              [True, False, False]])\n",
        "\n",
        "D = np.array([[0.1, 0.0]])\n",
        "```\n",
        "\n",
        "\n",
        "__Wskazówka:__ Użyj funkcji _np.any()._"
      ]
    },
    {
      "cell_type": "code",
      "source": [
        "A = np.array([[0, 0, 0],\n",
        "              [0, 0, 0]])\n",
        "\n",
        "B = np.array([[0, 0, 0],\n",
        "              [0, 1, 0]])\n",
        "\n",
        "C = np.array([[False, False, False],\n",
        "              [True, False, False]])\n",
        "\n",
        "D = np.array([[0.1, 0.0]])\n",
        "\n",
        "for name, array in zip(list('ABCD'), [A,B,C,D]):\n",
        "  print(f'{name}: {np.any(array)}')"
      ],
      "metadata": {
        "id": "HbupTHtMZFAo",
        "outputId": "2be14189-33fc-49d4-8bac-648ff99c2e2b",
        "colab": {
          "base_uri": "https://localhost:8080/"
        }
      },
      "execution_count": 20,
      "outputs": [
        {
          "output_type": "stream",
          "name": "stdout",
          "text": [
            "A: False\n",
            "B: True\n",
            "C: True\n",
            "D: True\n"
          ]
        }
      ]
    },
    {
      "cell_type": "code",
      "metadata": {
        "id": "8ZdasxYF1u8f",
        "colab": {
          "base_uri": "https://localhost:8080/"
        },
        "outputId": "f837c11e-5229-41fa-b24e-ace771063d85"
      },
      "source": [
        "A = np.array([[0, 0, 0],\n",
        "              [0, 0, 0]])\n",
        "\n",
        "B = np.array([[0, 0, 0],\n",
        "              [0, 1, 0]])\n",
        "\n",
        "C = np.array([[False, False, False],\n",
        "              [True, False, False]])\n",
        "\n",
        "D = np.array([[0.1, 0.0]])\n",
        "\n",
        "for name, array in zip(list('ABC'), [A,B,C]):\n",
        "  print(f'{name}:{np.all(array, axis = 1)}')"
      ],
      "execution_count": null,
      "outputs": [
        {
          "output_type": "execute_result",
          "data": {
            "text/plain": [
              "False"
            ]
          },
          "metadata": {},
          "execution_count": 12
        }
      ]
    },
    {
      "cell_type": "markdown",
      "metadata": {
        "id": "4xTKSUzg10MK"
      },
      "source": [
        "### <a name='4'></a> Ćwiczenie 4\n",
        "Sprawdź czy jakikolwiek element tablic $A, B, C$ oraz $D$ odpowiednio, zwraca wartość logiczną _True_ wzdłuż osi z indeksem 0.\n",
        "\n",
        "\n",
        "```\n",
        "A = np.array([[0, 0, 0],\n",
        "              [0, 0, 0]])\n",
        "\n",
        "B = np.array([[0, 0, 0],\n",
        "              [0, 1, 0]])\n",
        "\n",
        "C = np.array([[False, False, False],\n",
        "              [True, False, False]])\n",
        "\n",
        "D = np.array([[0.1, 0.0]])\n",
        "```\n",
        "\n",
        "\n",
        "\n",
        "__Wskazówka:__ Użyj funkcji _np.any()_ z parametrem _axis._"
      ]
    },
    {
      "cell_type": "code",
      "source": [
        "A = np.array([[0, 0, 0],\n",
        "              [0, 0, 0]])\n",
        "\n",
        "B = np.array([[0, 0, 0],\n",
        "              [0, 1, 0]])\n",
        "\n",
        "C = np.array([[False, False, False],\n",
        "              [True, False, False]])\n",
        "\n",
        "D = np.array([[0.1, 0.0]])\n",
        "\n",
        "for name, array in zip(list('ABC'), [A,B,C]):\n",
        "  print(f'{name}:{np.all(array)}')"
      ],
      "metadata": {
        "id": "HANr6PiQZ0Jh",
        "outputId": "d691e6a5-990a-431d-c0fa-d2e67e52b195",
        "colab": {
          "base_uri": "https://localhost:8080/"
        }
      },
      "execution_count": 22,
      "outputs": [
        {
          "output_type": "stream",
          "name": "stdout",
          "text": [
            "A:False\n",
            "B:False\n",
            "C:False\n"
          ]
        }
      ]
    },
    {
      "cell_type": "code",
      "metadata": {
        "id": "XdfedHWm1ynE",
        "colab": {
          "base_uri": "https://localhost:8080/"
        },
        "outputId": "9992ec93-dc6f-485d-b902-33ccc78c410a"
      },
      "source": [
        "A = np.array([[0, 0, 0],\n",
        "              [0, 0, 0]])\n",
        "\n",
        "B = np.array([[0, 0, 0],\n",
        "              [0, 1, 0]])\n",
        "\n",
        "C = np.array([[False, False, False],\n",
        "              [True, False, False]])\n",
        "\n",
        "D = np.array([[0.1, 0.0]])\n",
        "\n",
        "\n",
        "for name, array in zip(list('ABC'), [A,B,C,D]):\n",
        "  print(f'{name}:{np.any(array)}')"
      ],
      "execution_count": null,
      "outputs": [
        {
          "output_type": "stream",
          "name": "stdout",
          "text": [
            "A:False\n",
            "B:True\n",
            "C:True\n"
          ]
        }
      ]
    },
    {
      "cell_type": "markdown",
      "metadata": {
        "id": "o3HKIKlP15Ro"
      },
      "source": [
        "### <a name='5'></a> Ćwiczenie 5\n",
        "Sprawdź tablicę $A$ pod kątem braków danych (_np.nan_).\n",
        "\n",
        "\n",
        "```\n",
        "A = np.array([[3, 2, 1, np.nan],\n",
        "              [5, np.nan, 1, 6]])\n",
        "```\n",
        "\n",
        "\n",
        "__Wskazówka:__ Użyj funkcji _np.isnan()_."
      ]
    },
    {
      "cell_type": "code",
      "source": [
        "\n",
        "for name, array in zip(list('A'), [A]):\n",
        "  print(f'{name}:{np.isnan(array)}')"
      ],
      "metadata": {
        "id": "ud3g-Hg2aCaq",
        "outputId": "708b3047-7bd1-4bb9-c27b-9436c436a831",
        "colab": {
          "base_uri": "https://localhost:8080/"
        }
      },
      "execution_count": 24,
      "outputs": [
        {
          "output_type": "stream",
          "name": "stdout",
          "text": [
            "A:[[False False False  True]\n",
            " [False  True False False]]\n"
          ]
        }
      ]
    },
    {
      "cell_type": "code",
      "metadata": {
        "id": "pjKDpdCy12cg",
        "colab": {
          "base_uri": "https://localhost:8080/"
        },
        "outputId": "d189053b-b648-43aa-b819-9fb69841a161"
      },
      "source": [
        "A = np.array([[3, 2, 1, np.nan],\n",
        "              [5, np.nan, 1, 6]])\n",
        "for name, array in zip(list('A'), [A]):\n",
        "  print(f'{name}:{np.isnan(array)}')\n",
        "\n",
        "np.isnan(A)"
      ],
      "execution_count": null,
      "outputs": [
        {
          "output_type": "stream",
          "name": "stdout",
          "text": [
            "A:[[False False False  True]\n",
            " [False  True False False]]\n"
          ]
        },
        {
          "output_type": "execute_result",
          "data": {
            "text/plain": [
              "array([[False, False, False,  True],\n",
              "       [False,  True, False, False]])"
            ]
          },
          "metadata": {},
          "execution_count": 10
        }
      ]
    },
    {
      "cell_type": "markdown",
      "metadata": {
        "id": "PunXd_Ey16so"
      },
      "source": [
        "### <a name='6'></a> Ćwiczenie 6\n",
        "Sprawdź, czy poniższe tablice $A$ oraz $B$ są równe pod względem elementów (element-wise) z ustalonym poziomem tolerancji. Użyj funkcji _np.allclose()_ z domyślnymi parametrami.\n",
        " \n",
        "\n",
        "\n",
        "```\n",
        "A = np.array([0.4, 0.5, 0.3])\n",
        "B = np.array([0.39999999, 0.5000001, 0.3])\n",
        "```\n"
      ]
    },
    {
      "cell_type": "code",
      "metadata": {
        "id": "gJTx2KhF175d",
        "colab": {
          "base_uri": "https://localhost:8080/"
        },
        "outputId": "e106ade2-2677-4dad-bdf3-523e0f1b887a"
      },
      "source": [
        "A = np.array([0.4, 0.5, 0.3])\n",
        "B = np.array([0.39999999, 0.5000001, 0.3])\n",
        "\n",
        "np.equal(A,B)"
      ],
      "execution_count": null,
      "outputs": [
        {
          "output_type": "execute_result",
          "data": {
            "text/plain": [
              "array([False, False,  True])"
            ]
          },
          "metadata": {},
          "execution_count": 13
        }
      ]
    },
    {
      "cell_type": "markdown",
      "metadata": {
        "id": "hOhqDRz618Tx"
      },
      "source": [
        "### <a name='7'></a> Ćwiczenie 7\n",
        "Sprawdź, czy poniższe tablice $A$ oraz $B$ są równe pod względem elementów (element-wise). Użyj operatora porównania _==_.\n",
        "\n",
        "\n",
        "```\n",
        "A = np.array([0.4, 0.5, 0.3])\n",
        "B = np.array([0.3999999999, 0.5000000001, 0.3])\n",
        "```"
      ]
    },
    {
      "cell_type": "code",
      "metadata": {
        "id": "G4jvbzwe1-AH"
      },
      "source": [
        "# tutaj wpisz rozwiązanie"
      ],
      "execution_count": null,
      "outputs": []
    },
    {
      "cell_type": "markdown",
      "metadata": {
        "id": "TXUd_4631-gw"
      },
      "source": [
        "### <a name='8'></a> Ćwiczenie 8\n",
        "Sprawdź, dla których elementów (element-wise) poniższa tablica $A$ ma większe wartości niż tablica $B$.\n",
        "\n",
        "\n",
        "```\n",
        "A = np.array([0.4, 0.5, 0.3, 0.9])\n",
        "B = np.array([0.38, 0.51, 0.3, 0.91])\n",
        "```\n",
        "\n"
      ]
    },
    {
      "cell_type": "code",
      "metadata": {
        "id": "QWK7Yr671_xV",
        "colab": {
          "base_uri": "https://localhost:8080/"
        },
        "outputId": "4dc925b6-e740-4c88-f595-316a3f5f51ce"
      },
      "source": [
        "A = np.array([0.4, 0.5, 0.3, 0.9])\n",
        "B = np.array([0.38, 0.51, 0.3, 0.91])\n",
        "\n",
        "A > B"
      ],
      "execution_count": null,
      "outputs": [
        {
          "output_type": "execute_result",
          "data": {
            "text/plain": [
              "array([ True, False, False, False])"
            ]
          },
          "metadata": {},
          "execution_count": 15
        }
      ]
    },
    {
      "cell_type": "markdown",
      "metadata": {
        "id": "tgI6xEn-2AQo"
      },
      "source": [
        "### <a name='9'></a> Ćwiczenie 9\n",
        "Stwórz tablicę numpy wymiaru _4x4_ wypełnioną zerami. Ustal typ danych na _int_.\n",
        "\n",
        "__Oczekiwany wynik:__\n",
        "\n",
        "\n",
        "```\n",
        "array([[0, 0, 0, 0],\n",
        "       [0, 0, 0, 0],\n",
        "       [0, 0, 0, 0],\n",
        "       [0, 0, 0, 0]])\n",
        "```\n",
        "\n",
        "\n",
        "\n",
        "__Wskazówka:__ Użyj funkcji _np.zeros()_."
      ]
    },
    {
      "cell_type": "code",
      "metadata": {
        "id": "-_mfXExMOeSc",
        "colab": {
          "base_uri": "https://localhost:8080/"
        },
        "outputId": "0cd91d6e-07a7-44c2-c449-073daf040983"
      },
      "source": [
        "np.zeros(shape=(4,4), dtype='int')"
      ],
      "execution_count": null,
      "outputs": [
        {
          "output_type": "execute_result",
          "data": {
            "text/plain": [
              "array([[0, 0, 0, 0],\n",
              "       [0, 0, 0, 0],\n",
              "       [0, 0, 0, 0],\n",
              "       [0, 0, 0, 0]])"
            ]
          },
          "metadata": {},
          "execution_count": 17
        }
      ]
    },
    {
      "cell_type": "markdown",
      "metadata": {
        "id": "wxhpf-uq2B1I"
      },
      "source": [
        "### <a name='10'></a> Ćwiczenie 10\n",
        "Stwórz tablicę numpy wymiaru _10x10_ wypełnioną liczbą 255. Ustal typ danych na _float_.\n",
        "\n",
        "__Oczekiwany wynik:__\n",
        "\n",
        "\n",
        "```\n",
        "array([[255., 255., 255., 255., 255., 255., 255., 255., 255., 255.],\n",
        "       [255., 255., 255., 255., 255., 255., 255., 255., 255., 255.],\n",
        "       [255., 255., 255., 255., 255., 255., 255., 255., 255., 255.],\n",
        "       [255., 255., 255., 255., 255., 255., 255., 255., 255., 255.],\n",
        "       [255., 255., 255., 255., 255., 255., 255., 255., 255., 255.],\n",
        "       [255., 255., 255., 255., 255., 255., 255., 255., 255., 255.],\n",
        "       [255., 255., 255., 255., 255., 255., 255., 255., 255., 255.],\n",
        "       [255., 255., 255., 255., 255., 255., 255., 255., 255., 255.],\n",
        "       [255., 255., 255., 255., 255., 255., 255., 255., 255., 255.],\n",
        "       [255., 255., 255., 255., 255., 255., 255., 255., 255., 255.]])\n",
        "```\n",
        "\n",
        "\n",
        "\n",
        "__Wskazówka:__ Użyj funkcji _np.ones()_ lub _np.full()_."
      ]
    },
    {
      "cell_type": "code",
      "metadata": {
        "id": "49lqFGT42Dji",
        "colab": {
          "base_uri": "https://localhost:8080/"
        },
        "outputId": "993b43f5-344b-46e5-f666-0ca6ebe784dd"
      },
      "source": [
        "np.ones(shape= (10,10), dtype='float',) * 255"
      ],
      "execution_count": null,
      "outputs": [
        {
          "output_type": "execute_result",
          "data": {
            "text/plain": [
              "array([[255., 255., 255., 255., 255., 255., 255., 255., 255., 255.],\n",
              "       [255., 255., 255., 255., 255., 255., 255., 255., 255., 255.],\n",
              "       [255., 255., 255., 255., 255., 255., 255., 255., 255., 255.],\n",
              "       [255., 255., 255., 255., 255., 255., 255., 255., 255., 255.],\n",
              "       [255., 255., 255., 255., 255., 255., 255., 255., 255., 255.],\n",
              "       [255., 255., 255., 255., 255., 255., 255., 255., 255., 255.],\n",
              "       [255., 255., 255., 255., 255., 255., 255., 255., 255., 255.],\n",
              "       [255., 255., 255., 255., 255., 255., 255., 255., 255., 255.],\n",
              "       [255., 255., 255., 255., 255., 255., 255., 255., 255., 255.],\n",
              "       [255., 255., 255., 255., 255., 255., 255., 255., 255., 255.]])"
            ]
          },
          "metadata": {},
          "execution_count": 27
        }
      ]
    },
    {
      "cell_type": "code",
      "source": [
        "A = np.arange (start = -5, stop = 10, step = 0.5)\n"
      ],
      "metadata": {
        "id": "CabLsAsGiXBM"
      },
      "execution_count": null,
      "outputs": []
    },
    {
      "cell_type": "code",
      "source": [
        "print(A)"
      ],
      "metadata": {
        "colab": {
          "base_uri": "https://localhost:8080/"
        },
        "id": "NuHvoJVxizSD",
        "outputId": "27554ebb-7afa-493c-f4d1-1eedf88e3a05"
      },
      "execution_count": null,
      "outputs": [
        {
          "output_type": "stream",
          "name": "stdout",
          "text": [
            "[-5.  -4.5 -4.  -3.5 -3.  -2.5 -2.  -1.5 -1.  -0.5  0.   0.5  1.   1.5\n",
            "  2.   2.5  3.   3.5  4.   4.5  5.   5.5  6.   6.5  7.   7.5  8.   8.5\n",
            "  9.   9.5]\n"
          ]
        }
      ]
    },
    {
      "cell_type": "code",
      "source": [
        "A = A.reshape(10,-1)\n",
        "print(A)"
      ],
      "metadata": {
        "colab": {
          "base_uri": "https://localhost:8080/"
        },
        "id": "CT0NiPSMi0ic",
        "outputId": "98ce805a-0275-49f5-eb42-238b92895663"
      },
      "execution_count": null,
      "outputs": [
        {
          "output_type": "stream",
          "name": "stdout",
          "text": [
            "[[-5.  -4.5 -4. ]\n",
            " [-3.5 -3.  -2.5]\n",
            " [-2.  -1.5 -1. ]\n",
            " [-0.5  0.   0.5]\n",
            " [ 1.   1.5  2. ]\n",
            " [ 2.5  3.   3.5]\n",
            " [ 4.   4.5  5. ]\n",
            " [ 5.5  6.   6.5]\n",
            " [ 7.   7.5  8. ]\n",
            " [ 8.5  9.   9.5]]\n"
          ]
        }
      ]
    },
    {
      "cell_type": "code",
      "source": [
        ""
      ],
      "metadata": {
        "id": "LvPeutu9i4x7"
      },
      "execution_count": null,
      "outputs": []
    }
  ]
}